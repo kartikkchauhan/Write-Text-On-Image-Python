{
 "cells": [
  {
   "cell_type": "code",
   "execution_count": 1,
   "metadata": {},
   "outputs": [
    {
     "name": "stdout",
     "output_type": "stream",
     "text": [
      "E:/MachineLearning/writeOnImage/words.csv\n"
     ]
    }
   ],
   "source": [
    "import pandas as pd \n",
    "from PIL import Image, ImageDraw, ImageFont\n",
    "\n",
    "\n",
    "dataframe = pd.read_csv(\"words.csv\") "
   ]
  },
  {
   "cell_type": "code",
   "execution_count": 2,
   "metadata": {},
   "outputs": [
    {
     "name": "stdout",
     "output_type": "stream",
     "text": [
      "100\n"
     ]
    }
   ],
   "source": [
    "print(dataframe[\"S.No.\"].count())"
   ]
  },
  {
   "cell_type": "code",
   "execution_count": 3,
   "metadata": {},
   "outputs": [
    {
     "ename": "AttributeError",
     "evalue": "type object 'Image' has no attribute 'open'",
     "output_type": "error",
     "traceback": [
      "\u001b[1;31m---------------------------------------------------------------------------\u001b[0m",
      "\u001b[1;31mAttributeError\u001b[0m                            Traceback (most recent call last)",
      "\u001b[1;32m<ipython-input-3-943a01ffe70c>\u001b[0m in \u001b[0;36m<module>\u001b[1;34m\u001b[0m\n\u001b[1;32m----> 1\u001b[1;33m \u001b[0mimage\u001b[0m \u001b[1;33m=\u001b[0m \u001b[0mImage\u001b[0m\u001b[1;33m.\u001b[0m\u001b[0mopen\u001b[0m\u001b[1;33m(\u001b[0m\u001b[1;34m'image/main.png'\u001b[0m\u001b[1;33m)\u001b[0m\u001b[1;33m\u001b[0m\u001b[1;33m\u001b[0m\u001b[0m\n\u001b[0m\u001b[0;32m      2\u001b[0m \u001b[0mdraw\u001b[0m \u001b[1;33m=\u001b[0m \u001b[0mImageDraw\u001b[0m\u001b[1;33m.\u001b[0m\u001b[0mDraw\u001b[0m\u001b[1;33m(\u001b[0m\u001b[0mimage\u001b[0m\u001b[1;33m)\u001b[0m\u001b[1;33m\u001b[0m\u001b[1;33m\u001b[0m\u001b[0m\n\u001b[0;32m      3\u001b[0m \u001b[0mfont\u001b[0m \u001b[1;33m=\u001b[0m \u001b[0mImageFont\u001b[0m\u001b[1;33m.\u001b[0m\u001b[0mtruetype\u001b[0m\u001b[1;33m(\u001b[0m\u001b[1;34m'AnonymousPro.ttf'\u001b[0m\u001b[1;33m,\u001b[0m \u001b[0msize\u001b[0m\u001b[1;33m=\u001b[0m\u001b[1;36m200\u001b[0m\u001b[1;33m)\u001b[0m\u001b[1;33m\u001b[0m\u001b[1;33m\u001b[0m\u001b[0m\n\u001b[0;32m      4\u001b[0m \u001b[0menglishFont\u001b[0m \u001b[1;33m=\u001b[0m \u001b[0mImageFont\u001b[0m\u001b[1;33m.\u001b[0m\u001b[0mtruetype\u001b[0m\u001b[1;33m(\u001b[0m\u001b[1;34m'AnonymousPro.ttf'\u001b[0m\u001b[1;33m,\u001b[0m \u001b[0msize\u001b[0m\u001b[1;33m=\u001b[0m\u001b[1;36m200\u001b[0m\u001b[1;33m)\u001b[0m\u001b[1;33m\u001b[0m\u001b[1;33m\u001b[0m\u001b[0m\n\u001b[0;32m      5\u001b[0m \u001b[0mhinglishFont\u001b[0m \u001b[1;33m=\u001b[0m \u001b[0mImageFont\u001b[0m\u001b[1;33m.\u001b[0m\u001b[0mtruetype\u001b[0m\u001b[1;33m(\u001b[0m\u001b[1;34m'AnonymousPro.ttf'\u001b[0m\u001b[1;33m,\u001b[0m \u001b[0msize\u001b[0m\u001b[1;33m=\u001b[0m\u001b[1;36m200\u001b[0m\u001b[1;33m)\u001b[0m\u001b[1;33m\u001b[0m\u001b[1;33m\u001b[0m\u001b[0m\n",
      "\u001b[1;31mAttributeError\u001b[0m: type object 'Image' has no attribute 'open'"
     ]
    }
   ],
   "source": [
    "image = Image.open('image/main.png')\n",
    "draw = ImageDraw.Draw(image)\n",
    "font = ImageFont.truetype('AnonymousPro.ttf', size=200)\n",
    "englishFont = ImageFont.truetype('AnonymousPro.ttf', size=200)\n",
    "hinglishFont = ImageFont.truetype('AnonymousPro.ttf', size=200)\n",
    "hindiFont = ImageFont.truetype('gargi.ttf', size=200)\n",
    "\n",
    "for i in range(0,100):\n",
    "    try:\n",
    "        categoryData=dataframe[\"Category\"]\n",
    "        categoryWord=categoryData[i]\n",
    "        print(categoryWord)\n",
    "\n",
    "        englishData=dataframe[\"Normal_Word\"]\n",
    "        englishWord=(englishData[i])\n",
    "        print(englishWord + str(len(englishWord)))\n",
    "\n",
    "\n",
    "        hindiData=dataframe[\"Hindi Word\"]\n",
    "        hindiWord=hindiData[i]\n",
    "        print(hindiWord)\n",
    "\n",
    "        hinglishData=dataframe[\"Hinglish Word\"]\n",
    "        hinglishWord=hinglishData[i]\n",
    "        print(hinglishWord)\n",
    "\n",
    "\n",
    "\n",
    "        \n",
    "\n",
    "        (x, y) = (110, 80)\n",
    "        color = 'rgb(54, 54, 54)'\n",
    "        draw.text((x, y), categoryWord, fill=color, font=font)\n",
    "\n",
    "        #Settings For English word Start----\n",
    "\n",
    "        (x, y) = (800, 800)\n",
    "        color = 'rgb(54, 54, 54)'\n",
    "\n",
    "        if len(englishWord)>=8 and len(englishWord)<10:\n",
    "            (x, y) = (700, 800)\n",
    "        elif len(englishWord)>=10 and len(englishWord)<14:\n",
    "            (x, y) = (550, 800)\n",
    "            englishFont = ImageFont.truetype('AnonymousPro.ttf', size=150)\n",
    "        elif len(englishWord)==14:\n",
    "            (x, y) = (530, 800)\n",
    "            englishFont = ImageFont.truetype('AnonymousPro.ttf', size=150)\n",
    "        elif len(englishWord)>14:\n",
    "            (x, y) = (530, 800)\n",
    "            englishFont = ImageFont.truetype('AnonymousPro.ttf', size=100)\n",
    "\n",
    "        draw.text((x, y), englishWord , fill=color, font=englishFont)\n",
    "\n",
    "\n",
    "        #----settings for english word end   \n",
    "\n",
    "        #Settings For Hindi word Start----\n",
    "        (x, y) = (600, 1400)\n",
    "        color = 'rgb(54, 54, 54)'\n",
    "\n",
    "        if len(hindiWord)>=8 and len(hindiWord)<10:\n",
    "            (x, y) = (500, 1400)\n",
    "        elif len(hindiWord)>=10 and len(hindiWord)<14:\n",
    "            (x, y) = (350, 1400)\n",
    "            hindiFont = ImageFont.truetype('gargi.ttf', size=150)\n",
    "        elif len(hindiWord)==14:\n",
    "            (x, y) = (330, 1400)\n",
    "            hindiFont = ImageFont.truetype('gargi.ttf', size=150)\n",
    "        elif len(hindiWord)>14:\n",
    "            (x, y) = (330, 1400)\n",
    "            hindiFont = ImageFont.truetype('gargi.ttf', size=100)\n",
    "\n",
    "        draw.text((x, y), hindiWord, fill=color, font=hindiFont)\n",
    "        #----settings for hindi word end \n",
    "\n",
    "        #Settings For hinglish word Start----\n",
    "        (x, y) = (800, 1800)\n",
    "        color = 'rgb(54, 54, 54)'\n",
    "\n",
    "        if len(hinglishWord)>=8 and len(hinglishWord)<10:\n",
    "            (x, y) = (700, 1800)\n",
    "        elif len(hinglishWord)>=10 and len(hinglishWord)<14:\n",
    "            (x, y) = (550, 1800)\n",
    "            hinglishFont = ImageFont.truetype('AnonymousPro.ttf', size=150)\n",
    "        elif len(hinglishWord)==14:\n",
    "            (x, y) = (530, 1800)\n",
    "            hinglishFont = ImageFont.truetype('AnonymousPro.ttf', size=150)\n",
    "        elif len(hinglishWord)>14:\n",
    "            (x, y) = (530, 1800)\n",
    "            hinglishFont = ImageFont.truetype('AnonymousPro.ttf', size=100)\n",
    "\n",
    "        draw.text((x, y), hinglishWord, fill=color, font=hinglishFont)\n",
    "        #----settings for hinglish word end \n",
    "\n",
    "        #save image----\n",
    "        path=\"output/\"\n",
    "        image.save(path+f'oututImg-{i}.png')\n",
    "    except:\n",
    "        continue\n",
    "    "
   ]
  },
  {
   "cell_type": "code",
   "execution_count": null,
   "metadata": {},
   "outputs": [],
   "source": []
  },
  {
   "cell_type": "code",
   "execution_count": null,
   "metadata": {},
   "outputs": [],
   "source": []
  }
 ],
 "metadata": {
  "kernelspec": {
   "display_name": "Python 3",
   "language": "python",
   "name": "python3"
  },
  "language_info": {
   "codemirror_mode": {
    "name": "ipython",
    "version": 3
   },
   "file_extension": ".py",
   "mimetype": "text/x-python",
   "name": "python",
   "nbconvert_exporter": "python",
   "pygments_lexer": "ipython3",
   "version": "3.7.4"
  }
 },
 "nbformat": 4,
 "nbformat_minor": 4
}
